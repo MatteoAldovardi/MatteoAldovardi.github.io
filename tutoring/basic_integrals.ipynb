{
  "cells": [
    {
      "cell_type": "raw",
      "metadata": {},
      "source": [
        "---\n",
        "title: \"Basic Integrals\"\n",
        "format: html\n",
        "---"
      ],
      "id": "45ebc5d4"
    },
    {
      "cell_type": "markdown",
      "metadata": {},
      "source": [
        "# Basic Integrals\n",
        "\n",
        "This notebook introduces fundamental integral types and interactive exercises to practice.\n",
        "\n",
        "## 1. Common Indefinite Integrals\n",
        "\n",
        "| Integral Type                | Formula                                    |\n",
        "|------------------------------|--------------------------------------------|\n",
        "| Constant                     | $$ \\int c \\, dx = c x + C $$             |\n",
        "| Power Rule                   | $$ \\int x^n \\, dx = \\frac{x^{n+1}}{n+1} + C, \\, n \\neq -1 $$ |\n",
        "| Exponential                  | $$ \\int e^x \\, dx = e^x + C $$          |\n",
        "| Trigonometric (sine/cosine)  | $$ \\int \\sin(x) \\, dx = -\\cos(x) + C $$|\n",
        "|                              | $$ \\int \\cos(x) \\, dx = \\sin(x) + C $$ |"
      ],
      "id": "f56b72f2"
    },
    {
      "cell_type": "raw",
      "metadata": {},
      "source": [
        "---\n",
        "\n",
        "## 2. Definite Integrals\n",
        "\n",
        "Example:\n",
        "\\[\n",
        "   \\int_{0}^{1} x^2 \\, dx = \\left[ \\frac{x^3}{3} \\right]_0^1 = \\frac{1}{3} \n",
        "\\]\n",
        "\n",
        "---"
      ],
      "id": "1ca095c2"
    },
    {
      "cell_type": "markdown",
      "metadata": {},
      "source": [
        "## 3. Interactive Exercises\n",
        "\n",
        "### Exercise 1: Calculate the Integral\n",
        "Solve $$ \\int x^3 \\, dx $$ using the power rule.\n"
      ],
      "id": "a67f9910"
    },
    {
      "cell_type": "code",
      "metadata": {},
      "source": [
        "# Interactive Solution using SymPy\n",
        "from sympy import symbols, integrate\n",
        "\n",
        "x = symbols('x')\n",
        "integral = integrate(x**3, x)\n",
        "integral"
      ],
      "id": "31ae48b3",
      "execution_count": null,
      "outputs": []
    },
    {
      "cell_type": "markdown",
      "metadata": {},
      "source": [
        "---\n",
        "\n",
        "### Exercise 2: Evaluate a Definite Integral\n",
        "Find $$ \\int_0^\\pi \\sin(x) \\, dx $$.\n"
      ],
      "id": "4b77a175"
    },
    {
      "cell_type": "code",
      "metadata": {},
      "source": [
        "# SymPy Definite Integral\n",
        "from sympy import sin, pi\n",
        "\n",
        "definite_integral = integrate(sin(x), (x, 0, pi))\n",
        "definite_integral"
      ],
      "id": "35e8406f",
      "execution_count": null,
      "outputs": []
    },
    {
      "cell_type": "raw",
      "metadata": {},
      "source": [
        "---"
      ],
      "id": "a5a0b0cb"
    },
    {
      "cell_type": "markdown",
      "metadata": {},
      "source": [
        "## 4. Interactive Practice Tool\n",
        "\n",
        "Use the sliders below to visualize integral functions:\n"
      ],
      "id": "87d1eec6"
    },
    {
      "cell_type": "code",
      "metadata": {},
      "source": [
        "# Interactive plotting with ipywidgets\n",
        "import numpy as np\n",
        "import matplotlib.pyplot as plt\n",
        "from ipywidgets import interact\n",
        "\n",
        "def plot_integral(a, b):\n",
        "    x = np.linspace(a, b, 500)\n",
        "    y = x**2\n",
        "    plt.plot(x, y, label='y = x^2')\n",
        "    plt.fill_between(x, 0, y, alpha=0.3)\n",
        "    plt.title(f\"Area under y=x^2 from {a} to {b}\")\n",
        "    plt.xlabel(\"x\")\n",
        "    plt.ylabel(\"y\")\n",
        "    plt.legend()\n",
        "    plt.show()\n",
        "\n",
        "interact(plot_integral, a=(-5, 0), b=(0, 5))"
      ],
      "id": "a2b87542",
      "execution_count": null,
      "outputs": []
    },
    {
      "cell_type": "markdown",
      "metadata": {},
      "source": [
        "---\n",
        "\n",
        "## 5. Practice Problems\n",
        "\n",
        "1. $$ \\int 2x \\, dx $$\n",
        "2. $$ \\int_0^1 e^x \\, dx $$\n",
        "3. $$ \\int \\cos(2x) \\, dx $$\n",
        "\n",
        "_Solutions will be discussed in the next tutorial._"
      ],
      "id": "6245398f"
    }
  ],
  "metadata": {
    "kernelspec": {
      "name": "python3",
      "language": "python",
      "display_name": "Python 3 (ipykernel)"
    }
  },
  "nbformat": 4,
  "nbformat_minor": 5
}